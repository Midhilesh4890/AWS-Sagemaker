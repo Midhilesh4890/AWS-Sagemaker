{
  "nbformat": 4,
  "nbformat_minor": 0,
  "metadata": {
    "kernelspec": {
      "display_name": "conda_python3",
      "language": "python",
      "name": "conda_python3"
    },
    "language_info": {
      "codemirror_mode": {
        "name": "ipython",
        "version": 3
      },
      "file_extension": ".py",
      "mimetype": "text/x-python",
      "name": "python",
      "nbconvert_exporter": "python",
      "pygments_lexer": "ipython3",
      "version": "3.6.10"
    },
    "colab": {
      "name": "XGBoost built in SagemakerModel.ipynb",
      "provenance": [],
      "collapsed_sections": []
    }
  },
  "cells": [
    {
      "cell_type": "markdown",
      "metadata": {
        "id": "is_ngANIKNTp"
      },
      "source": [
        "### Importing Important Libraries"
      ]
    },
    {
      "cell_type": "markdown",
      "metadata": {
        "id": "JkvpBv5pKNT8"
      },
      "source": [
        "#### Steps To Be Followed\n",
        "1. Importing necessary Libraries\n",
        "2. Creating S3 bucket \n",
        "3. Mapping train And Test Data in S3\n",
        "4. Mapping The path of the models in S3"
      ]
    },
    {
      "cell_type": "code",
      "metadata": {
        "id": "tSLCnE_oKNT9"
      },
      "source": [
        "import sagemaker\n",
        "import boto3\n",
        "from sagemaker.amazon.amazon_estimator import get_image_uri \n",
        "from sagemaker.session import TrainingInput, Session"
      ],
      "execution_count": null,
      "outputs": []
    },
    {
      "cell_type": "code",
      "metadata": {
        "id": "VoqRzGp9KNT-",
        "outputId": "233698a1-cee7-448a-9caa-5a62f0e8f2c8"
      },
      "source": [
        "bucket_name = 'carspredictionsagemaker' ##--> Name should be unique\n",
        "my_region = boto3.session.Session().region_name ##Region name without hardcoding\n",
        "print(my_region)"
      ],
      "execution_count": null,
      "outputs": [
        {
          "output_type": "stream",
          "text": [
            "us-east-1\n"
          ],
          "name": "stdout"
        }
      ]
    },
    {
      "cell_type": "code",
      "metadata": {
        "id": "eO9vWMcLKNUB",
        "outputId": "a9c2b2d6-9918-461d-a2a1-c9dd24c77d94"
      },
      "source": [
        "s3 = boto3.resource('s3')\n",
        "try:\n",
        "    if my_region == 'us-east-1':\n",
        "        s3.create_bucket(Bucket = bucket_name)\n",
        "    print('Created Bucket Successfully')\n",
        "except Exception as e:\n",
        "    print('S3 Error: ',e)"
      ],
      "execution_count": null,
      "outputs": [
        {
          "output_type": "stream",
          "text": [
            "Created Bucket Successfully\n"
          ],
          "name": "stdout"
        }
      ]
    },
    {
      "cell_type": "code",
      "metadata": {
        "id": "aGFuI_6IKNUC",
        "outputId": "7e0c586a-02a4-4c79-b72a-39a69c8420ff"
      },
      "source": [
        "# set an output path where the trained model will be saved\n",
        "prefix = 'xgboost-built-in-algorithm'\n",
        "output_path = \"s3://{}/{}/output\".format(bucket_name,prefix)\n",
        "print(output_path)"
      ],
      "execution_count": null,
      "outputs": [
        {
          "output_type": "stream",
          "text": [
            "s3://carspredictionsagemaker/xgboost-built-in-algorithm/output\n"
          ],
          "name": "stdout"
        }
      ]
    },
    {
      "cell_type": "markdown",
      "metadata": {
        "id": "Yej1xQCJKNUC"
      },
      "source": [
        "#### Downloading The Dataset And Storing in S3"
      ]
    },
    {
      "cell_type": "code",
      "metadata": {
        "id": "Zli_ZVeiKNUD",
        "outputId": "942a4e40-5f5b-4949-d2f3-68e148fba780"
      },
      "source": [
        "import pandas as pd\n",
        "import urllib\n",
        "try:\n",
        "    urllib.request.urlretrieve (\"https://d1.awsstatic.com/tmt/build-train-deploy-machine-learning-model-sagemaker/bank_clean.27f01fbbdf43271788427f3682996ae29ceca05d.csv\", \"bank_clean.csv\")\n",
        "    print('Success: downloaded bank_clean.csv.')\n",
        "except Exception as e:\n",
        "    print('Data load error: ',e)\n",
        "\n",
        "try:\n",
        "    model_data = pd.read_csv('./bank_clean.csv',index_col=0)\n",
        "    print('Success: Data loaded into dataframe.')\n",
        "except Exception as e:\n",
        "    print('Data load error: ',e)\n",
        "    \n",
        "## Dataset taken from this link \n",
        "## https://d1.awsstatic.com/tmt/build-train-deploy-machine-learning-model-sagemaker/bank_clean.27f01fbbdf43271788427f3682996ae29ceca05d.csv"
      ],
      "execution_count": null,
      "outputs": [
        {
          "output_type": "stream",
          "text": [
            "Success: downloaded bank_clean.csv.\n",
            "Success: Data loaded into dataframe.\n"
          ],
          "name": "stdout"
        }
      ]
    },
    {
      "cell_type": "code",
      "metadata": {
        "id": "qS5G8IAmKNUE",
        "outputId": "5117cace-3266-4f87-8cb0-59f93b1c77d7"
      },
      "source": [
        "### Train Test split\n",
        "\n",
        "import numpy as np\n",
        "train_data, test_data = np.split(model_data.sample(frac=1, random_state=1729), [int(0.7 * len(model_data))])\n",
        "print(train_data.shape, test_data.shape)"
      ],
      "execution_count": null,
      "outputs": [
        {
          "output_type": "stream",
          "text": [
            "(28831, 61) (12357, 61)\n"
          ],
          "name": "stdout"
        }
      ]
    },
    {
      "cell_type": "code",
      "metadata": {
        "id": "VUgbXL-sKNUF"
      },
      "source": [
        "### Saving Train And Test Into Buckets\n",
        "## We start with Train Data\n",
        "import os\n",
        "pd.concat([train_data['y_yes'], train_data.drop(['y_no', 'y_yes'], \n",
        "                                                axis=1)],\n",
        "                                                axis=1).to_csv('train.csv', index=False, header=False)\n",
        "boto3.Session().resource('s3').Bucket(bucket_name).Object(os.path.join(prefix, 'train/train.csv')).upload_file('train.csv')\n",
        "s3_input_train = sagemaker.TrainingInput(s3_data='s3://{}/{}/train'.format(bucket_name, prefix), content_type='csv')"
      ],
      "execution_count": null,
      "outputs": []
    },
    {
      "cell_type": "code",
      "metadata": {
        "id": "9Q2e4YfgKNUG"
      },
      "source": [
        "# Test Data Into Buckets\n",
        "pd.concat([test_data['y_yes'], test_data.drop(['y_no', 'y_yes'], axis=1)], axis=1).to_csv('test.csv', index=False, header=False)\n",
        "boto3.Session().resource('s3').Bucket(bucket_name).Object(os.path.join(prefix, 'test/test.csv')).upload_file('test.csv')\n",
        "s3_input_test = sagemaker.TrainingInput(s3_data='s3://{}/{}/test'.format(bucket_name, prefix), content_type='csv')"
      ],
      "execution_count": null,
      "outputs": []
    },
    {
      "cell_type": "markdown",
      "metadata": {
        "id": "Ahwen8J3KNUH"
      },
      "source": [
        "### Building Models Xgboot- Inbuilt Algorithm"
      ]
    },
    {
      "cell_type": "code",
      "metadata": {
        "id": "A4-uuK2WKNUH"
      },
      "source": [
        "# this line automatically looks for the XGBoost image URI and builds an XGBoost container.\n",
        "# specify the repo_version depending on your preference.\n",
        "from sagemaker import image_uris\n",
        "container = image_uris.retrieve('xgboost',boto3.Session().region_name,version='1.0-1')\n",
        "\n",
        "# https://docs.aws.amazon.com/sagemaker/latest/dg/xgboost.html\n",
        "\n",
        "## Use version 1.2-1 as there are some issues with 1.1 or below\n",
        "\n",
        "# XGBoost 1.1 is not supported on SageMaker because XGBoost 1.1 has a broken capability to run prediction when the test input \n",
        "# has fewer features than the training data in LIBSVM inputs. \n",
        "# This capability has been restored in XGBoost 1.2. Consider using SageMaker XGBoost 1.2-1.\n",
        "\n",
        "##'get_image_uri' method will be deprecated in favor of 'ImageURIProvider' class in SageMaker Python SDK v2\n",
        "## https://sagemaker.readthedocs.io/en/stable/v2.html#image-uri-functions-e-g-get-image-uri --> check this link \n",
        "## https://sagemaker.readthedocs.io/en/stable/api/utility/image_uris.html#sagemaker.image_uris.retrieve"
      ],
      "execution_count": null,
      "outputs": []
    },
    {
      "cell_type": "code",
      "metadata": {
        "id": "fs5UTGn_KNUH"
      },
      "source": [
        "# initialize hyperparameters\n",
        "hyperparameters = {\n",
        "        \"max_depth\":\"5\",\n",
        "        \"eta\":\"0.2\",\n",
        "        \"gamma\":\"4\",\n",
        "        \"min_child_weight\":\"6\",\n",
        "        \"subsample\":\"0.7\",\n",
        "        \"objective\":\"binary:logistic\",\n",
        "        \"num_round\":50\n",
        "        }"
      ],
      "execution_count": null,
      "outputs": []
    },
    {
      "cell_type": "code",
      "metadata": {
        "id": "QJ7p0otlKNUI",
        "outputId": "e6c78ab2-fb0c-4aba-dc93-46689489371e"
      },
      "source": [
        "# construct a SageMaker estimator that calls the xgboost-container\n",
        "estimator = sagemaker.estimator.Estimator(image_uri=container, \n",
        "                                          hyperparameters=hyperparameters,\n",
        "                                          role=sagemaker.get_execution_role(),\n",
        "                                          train_instance_count=1, \n",
        "                                          train_instance_type='ml.m5.2xlarge', \n",
        "                                          train_volume_size=5, # 5 GB \n",
        "                                          output_path=output_path,\n",
        "                                          train_use_spot_instances=True,\n",
        "                                          train_max_run=300,\n",
        "                                          train_max_wait=600)\n",
        "## Parameter image_name will be renamed to image_uri in SageMaker Python SDK v2.\n",
        "\n",
        "## Note: 'ml.m5.2xlarge' instance given in the code will cost instead use ml.t2.medium"
      ],
      "execution_count": null,
      "outputs": [
        {
          "output_type": "stream",
          "text": [
            "Parameter image_name will be renamed to image_uri in SageMaker Python SDK v2.\n"
          ],
          "name": "stderr"
        }
      ]
    },
    {
      "cell_type": "code",
      "metadata": {
        "id": "JQMsoym3KNUJ",
        "outputId": "088c4a1f-512e-44a7-ccaf-fb873a73ec92"
      },
      "source": [
        "estimator.fit({'train': s3_input_train,'validation': s3_input_test})"
      ],
      "execution_count": null,
      "outputs": [
        {
          "output_type": "stream",
          "text": [
            "2020-08-29 09:49:29 Starting - Starting the training job...\n",
            "2020-08-29 09:49:31 Starting - Launching requested ML instances.........\n",
            "2020-08-29 09:51:04 Starting - Preparing the instances for training...\n",
            "2020-08-29 09:51:44 Downloading - Downloading input data\n",
            "2020-08-29 09:51:44 Training - Downloading the training image..\u001b[34mINFO:sagemaker-containers:Imported framework sagemaker_xgboost_container.training\u001b[0m\n",
            "\u001b[34mINFO:sagemaker-containers:Failed to parse hyperparameter objective value binary:logistic to Json.\u001b[0m\n",
            "\u001b[34mReturning the value itself\u001b[0m\n",
            "\u001b[34mINFO:sagemaker-containers:No GPUs detected (normal if no gpus installed)\u001b[0m\n",
            "\u001b[34mINFO:sagemaker_xgboost_container.training:Running XGBoost Sagemaker in algorithm mode\u001b[0m\n",
            "\u001b[34mINFO:root:Determined delimiter of CSV input is ','\u001b[0m\n",
            "\u001b[34mINFO:root:Determined delimiter of CSV input is ','\u001b[0m\n",
            "\u001b[34mINFO:root:Determined delimiter of CSV input is ','\u001b[0m\n",
            "\u001b[34m[09:52:07] 28831x59 matrix with 1701029 entries loaded from /opt/ml/input/data/train?format=csv&label_column=0&delimiter=,\u001b[0m\n",
            "\u001b[34mINFO:root:Determined delimiter of CSV input is ','\u001b[0m\n",
            "\u001b[34m[09:52:07] 12357x59 matrix with 729063 entries loaded from /opt/ml/input/data/validation?format=csv&label_column=0&delimiter=,\u001b[0m\n",
            "\u001b[34mINFO:root:Single node training.\u001b[0m\n",
            "\u001b[34mINFO:root:Train matrix has 28831 rows\u001b[0m\n",
            "\u001b[34mINFO:root:Validation matrix has 12357 rows\u001b[0m\n",
            "\u001b[34m[09:52:07] WARNING: /workspace/src/learner.cc:328: \u001b[0m\n",
            "\u001b[34mParameters: { num_round } might not be used.\n",
            "\n",
            "  This may not be accurate due to some parameters are only used in language bindings but\n",
            "  passed down to XGBoost core.  Or some parameters are not used but slip through this\n",
            "  verification. Please open an issue if you find above cases.\n",
            "\n",
            "\u001b[0m\n",
            "\u001b[34m[0]#011train-error:0.10079#011validation-error:0.10528\u001b[0m\n",
            "\u001b[34m[1]#011train-error:0.09968#011validation-error:0.10456\u001b[0m\n",
            "\u001b[34m[2]#011train-error:0.10017#011validation-error:0.10375\u001b[0m\n",
            "\u001b[34m[3]#011train-error:0.09989#011validation-error:0.10310\u001b[0m\n",
            "\u001b[34m[4]#011train-error:0.09996#011validation-error:0.10286\u001b[0m\n",
            "\u001b[34m[5]#011train-error:0.09906#011validation-error:0.10261\u001b[0m\n",
            "\u001b[34m[6]#011train-error:0.09930#011validation-error:0.10286\u001b[0m\n",
            "\u001b[34m[7]#011train-error:0.09951#011validation-error:0.10261\u001b[0m\n",
            "\u001b[34m[8]#011train-error:0.09920#011validation-error:0.10286\u001b[0m\n",
            "\u001b[34m[9]#011train-error:0.09871#011validation-error:0.10294\u001b[0m\n",
            "\u001b[34m[10]#011train-error:0.09868#011validation-error:0.10294\u001b[0m\n",
            "\u001b[34m[11]#011train-error:0.09868#011validation-error:0.10326\u001b[0m\n",
            "\u001b[34m[12]#011train-error:0.09854#011validation-error:0.10358\u001b[0m\n",
            "\u001b[34m[13]#011train-error:0.09892#011validation-error:0.10342\u001b[0m\n",
            "\u001b[34m[14]#011train-error:0.09850#011validation-error:0.10342\u001b[0m\n",
            "\u001b[34m[15]#011train-error:0.09844#011validation-error:0.10326\u001b[0m\n",
            "\u001b[34m[16]#011train-error:0.09857#011validation-error:0.10318\u001b[0m\n",
            "\u001b[34m[17]#011train-error:0.09799#011validation-error:0.10318\u001b[0m\n",
            "\u001b[34m[18]#011train-error:0.09816#011validation-error:0.10383\u001b[0m\n",
            "\u001b[34m[19]#011train-error:0.09857#011validation-error:0.10383\u001b[0m\n",
            "\u001b[34m[20]#011train-error:0.09830#011validation-error:0.10350\u001b[0m\n",
            "\u001b[34m[21]#011train-error:0.09826#011validation-error:0.10318\u001b[0m\n",
            "\u001b[34m[22]#011train-error:0.09847#011validation-error:0.10399\u001b[0m\n",
            "\u001b[34m[23]#011train-error:0.09833#011validation-error:0.10407\u001b[0m\n",
            "\u001b[34m[24]#011train-error:0.09812#011validation-error:0.10415\u001b[0m\n",
            "\u001b[34m[25]#011train-error:0.09812#011validation-error:0.10399\u001b[0m\n",
            "\u001b[34m[26]#011train-error:0.09774#011validation-error:0.10375\u001b[0m\n",
            "\u001b[34m[27]#011train-error:0.09781#011validation-error:0.10375\u001b[0m\n",
            "\u001b[34m[28]#011train-error:0.09781#011validation-error:0.10391\u001b[0m\n",
            "\u001b[34m[29]#011train-error:0.09778#011validation-error:0.10367\u001b[0m\n",
            "\u001b[34m[30]#011train-error:0.09781#011validation-error:0.10383\u001b[0m\n",
            "\u001b[34m[31]#011train-error:0.09771#011validation-error:0.10358\u001b[0m\n",
            "\u001b[34m[32]#011train-error:0.09743#011validation-error:0.10391\u001b[0m\n",
            "\u001b[34m[33]#011train-error:0.09753#011validation-error:0.10342\u001b[0m\n",
            "\u001b[34m[34]#011train-error:0.09767#011validation-error:0.10342\u001b[0m\n",
            "\u001b[34m[35]#011train-error:0.09757#011validation-error:0.10350\u001b[0m\n",
            "\u001b[34m[36]#011train-error:0.09757#011validation-error:0.10342\u001b[0m\n",
            "\u001b[34m[37]#011train-error:0.09736#011validation-error:0.10342\u001b[0m\n",
            "\u001b[34m[38]#011train-error:0.09750#011validation-error:0.10342\u001b[0m\n",
            "\u001b[34m[39]#011train-error:0.09733#011validation-error:0.10350\u001b[0m\n",
            "\u001b[34m[40]#011train-error:0.09705#011validation-error:0.10358\u001b[0m\n",
            "\u001b[34m[41]#011train-error:0.09701#011validation-error:0.10383\u001b[0m\n",
            "\u001b[34m[42]#011train-error:0.09712#011validation-error:0.10407\u001b[0m\n",
            "\u001b[34m[43]#011train-error:0.09698#011validation-error:0.10375\u001b[0m\n",
            "\u001b[34m[44]#011train-error:0.09733#011validation-error:0.10342\u001b[0m\n",
            "\u001b[34m[45]#011train-error:0.09736#011validation-error:0.10367\u001b[0m\n",
            "\u001b[34m[46]#011train-error:0.09746#011validation-error:0.10350\u001b[0m\n",
            "\u001b[34m[47]#011train-error:0.09736#011validation-error:0.10358\u001b[0m\n",
            "\u001b[34m[48]#011train-error:0.09712#011validation-error:0.10334\u001b[0m\n",
            "\u001b[34m[49]#011train-error:0.09712#011validation-error:0.10318\u001b[0m\n",
            "\n",
            "2020-08-29 09:52:19 Uploading - Uploading generated training model\n",
            "2020-08-29 09:52:19 Completed - Training job completed\n",
            "Training seconds: 44\n",
            "Billable seconds: 21\n",
            "Managed Spot Training savings: 52.3%\n"
          ],
          "name": "stdout"
        }
      ]
    },
    {
      "cell_type": "markdown",
      "metadata": {
        "id": "Uga1Iwn3KNUJ"
      },
      "source": [
        "### Deploy Machine Learning Model As Endpoints"
      ]
    },
    {
      "cell_type": "code",
      "metadata": {
        "id": "DyTMqtFJKNUK",
        "outputId": "94f59376-acae-4992-d411-27a77a456e9b"
      },
      "source": [
        "xgb_predictor = estimator.deploy(initial_instance_count=1,instance_type='ml.m4.xlarge')\r\n",
        "## Use ml.t2.medium to avoid costs "
      ],
      "execution_count": null,
      "outputs": [
        {
          "output_type": "stream",
          "text": [
            "Parameter image will be renamed to image_uri in SageMaker Python SDK v2.\n"
          ],
          "name": "stderr"
        },
        {
          "output_type": "stream",
          "text": [
            "---------------!"
          ],
          "name": "stdout"
        }
      ]
    },
    {
      "cell_type": "markdown",
      "metadata": {
        "id": "ZaQYUfJfKNUK"
      },
      "source": [
        "#### Prediction of the Test Data"
      ]
    },
    {
      "cell_type": "code",
      "metadata": {
        "id": "l54Q-j9FKNUL",
        "outputId": "a5739f28-387e-4c74-cfe2-eb9d3ca534f6"
      },
      "source": [
        "from sagemaker.predictor import csv_serializer\n",
        "test_data_array = test_data.drop(['y_no', 'y_yes'], axis=1).values #load the data into an array\n",
        "xgb_predictor.content_type = 'text/csv' # set the data type for an inference\n",
        "xgb_predictor.serializer = csv_serializer # set the serializer type\n",
        "predictions = xgb_predictor.predict(test_data_array).decode('utf-8') # predict!\n",
        "predictions_array = np.fromstring(predictions[1:], sep=',') # and turn the prediction into an array\n",
        "print(predictions_array.shape)"
      ],
      "execution_count": null,
      "outputs": [
        {
          "output_type": "stream",
          "text": [
            "(12357,)\n"
          ],
          "name": "stdout"
        }
      ]
    },
    {
      "cell_type": "code",
      "metadata": {
        "id": "Gb4vZoRBKNUL",
        "outputId": "17cedbda-a13c-472c-eb2f-2726d0f6f183"
      },
      "source": [
        "predictions_array"
      ],
      "execution_count": null,
      "outputs": [
        {
          "output_type": "execute_result",
          "data": {
            "text/plain": [
              "array([0.05214286, 0.05660191, 0.05096195, ..., 0.03436061, 0.02942475,\n",
              "       0.03715819])"
            ]
          },
          "metadata": {
            "tags": []
          },
          "execution_count": 30
        }
      ]
    },
    {
      "cell_type": "code",
      "metadata": {
        "id": "uIy8QDBdKNUM",
        "outputId": "baa0889a-e709-4ede-f804-055f832f806b"
      },
      "source": [
        "cm = pd.crosstab(index=test_data['y_yes'], columns=np.round(predictions_array), rownames=['Observed'], colnames=['Predicted'])\n",
        "tn = cm.iloc[0,0]; fn = cm.iloc[1,0]; tp = cm.iloc[1,1]; fp = cm.iloc[0,1]; p = (tp+tn)/(tp+tn+fp+fn)*100\n",
        "print(\"\\n{0:<20}{1:<4.1f}%\\n\".format(\"Overall Classification Rate: \", p))\n",
        "print(\"{0:<15}{1:<15}{2:>8}\".format(\"Predicted\", \"No Purchase\", \"Purchase\"))\n",
        "print(\"Observed\")\n",
        "print(\"{0:<15}{1:<2.0f}% ({2:<}){3:>6.0f}% ({4:<})\".format(\"No Purchase\", tn/(tn+fn)*100,tn, fp/(tp+fp)*100, fp))\n",
        "print(\"{0:<16}{1:<1.0f}% ({2:<}){3:>7.0f}% ({4:<}) \\n\".format(\"Purchase\", fn/(tn+fn)*100,fn, tp/(tp+fp)*100, tp))"
      ],
      "execution_count": null,
      "outputs": [
        {
          "output_type": "stream",
          "text": [
            "\n",
            "Overall Classification Rate: 89.7%\n",
            "\n",
            "Predicted      No Purchase    Purchase\n",
            "Observed\n",
            "No Purchase    91% (10785)    34% (151)\n",
            "Purchase        9% (1124)     66% (297) \n",
            "\n"
          ],
          "name": "stdout"
        }
      ]
    },
    {
      "cell_type": "markdown",
      "metadata": {
        "id": "imQHVTL2KNUM"
      },
      "source": [
        "#### Deleting The Endpoints"
      ]
    },
    {
      "cell_type": "code",
      "metadata": {
        "id": "FrjtbaLZKNUO",
        "outputId": "ee2b68d2-5e5d-4c25-b736-e1e623b3d49e"
      },
      "source": [
        "sagemaker.Session().delete_endpoint(xgb_predictor.endpoint)\n",
        "bucket_to_delete = boto3.resource('s3').Bucket(bucket_name)\n",
        "bucket_to_delete.objects.all().delete()"
      ],
      "execution_count": null,
      "outputs": [
        {
          "output_type": "execute_result",
          "data": {
            "text/plain": [
              "[{'ResponseMetadata': {'RequestId': '2FF829102DC6DFD1',\n",
              "   'HostId': 'mYPqeWyx3REoLIsQu2MVorzKLrlxES2n6Dcdr3PycVf1VkRCxicEewoPP8IxRguc5MGksLnjynY=',\n",
              "   'HTTPStatusCode': 200,\n",
              "   'HTTPHeaders': {'x-amz-id-2': 'mYPqeWyx3REoLIsQu2MVorzKLrlxES2n6Dcdr3PycVf1VkRCxicEewoPP8IxRguc5MGksLnjynY=',\n",
              "    'x-amz-request-id': '2FF829102DC6DFD1',\n",
              "    'date': 'Sat, 29 Aug 2020 10:21:27 GMT',\n",
              "    'connection': 'close',\n",
              "    'content-type': 'application/xml',\n",
              "    'transfer-encoding': 'chunked',\n",
              "    'server': 'AmazonS3'},\n",
              "   'RetryAttempts': 0},\n",
              "  'Deleted': [{'Key': 'xgboost-as-a-built-in-algo/train/train.csv'},\n",
              "   {'Key': 'xgboost-as-a-built-in-algo/test/test.csv'},\n",
              "   {'Key': 'xgboost-as-a-built-in-algo/output/sagemaker-xgboost-2020-08-29-09-49-29-015/output/model.tar.gz'}]}]"
            ]
          },
          "metadata": {
            "tags": []
          },
          "execution_count": 32
        }
      ]
    },
    {
      "cell_type": "code",
      "metadata": {
        "id": "kvPjo7j1KNUO"
      },
      "source": [
        ""
      ],
      "execution_count": null,
      "outputs": []
    }
  ]
}